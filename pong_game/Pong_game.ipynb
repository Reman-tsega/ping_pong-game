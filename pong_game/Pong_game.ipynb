{
 "cells": [
  {
   "cell_type": "markdown",
   "metadata": {},
   "source": [
    "PONG\n",
    "=="
   ]
  },
  {
   "cell_type": "markdown",
   "metadata": {},
   "source": [
    "set up the screen\n",
    "--\n",
    "import the screen module,  use screen.listen(), .bgcolor, .onkey,\n",
    "set separator broken line at the middle ( go the turtle from up to down the at the center of screen and hide after draw line)"
   ]
  },
  {
   "cell_type": "code",
   "execution_count": 90,
   "metadata": {},
   "outputs": [],
   "source": [
    "from  turtle import Screen ,Turtle\n",
    "import time\n",
    "import random\n",
    "\n",
    "\n",
    "class Starter:\n",
    "    \n",
    "    def __init__(self):\n",
    "        screen.setup(800, 600)\n",
    "        screen.bgcolor(\"black\")\n",
    "        screen.title(\"Pong\")\n",
    "        self.start()\n",
    "    \n",
    "\n",
    "    def start(self):\n",
    "        starter = Turtle(\"classic\")\n",
    "        starter.color(\"white\")\n",
    "        starter.pensize(5)\n",
    "        starter.penup()\n",
    "        starter.goto(0,650)\n",
    "        starter.right(90)\n",
    "        while(starter.ycor()>-320):\n",
    "            starter.pendown()\n",
    "            starter.fd(10)\n",
    "            starter.penup()\n",
    "            starter.fd(10)\n",
    "        starter.hideturtle()\n",
    "\n",
    "\n",
    "\n"
   ]
  },
  {
   "cell_type": "markdown",
   "metadata": {},
   "source": [
    "Create the paddle\n",
    "--\n",
    "- inheit turtle class to create two players object \n",
    "- move to - 350 and 350 \n",
    "- set its size(20,100) color \n",
    "- allow the vertical movment on event listner"
   ]
  },
  {
   "cell_type": "code",
   "execution_count": 91,
   "metadata": {},
   "outputs": [],
   "source": [
    "# from turtle import Turtle\n",
    "\n",
    "paddle = Turtle()\n",
    "\n",
    "class Paddle(Turtle):\n",
    "    \n",
    "    def __init__(self,x_cor):\n",
    "        super().__init__()\n",
    "        self.color(\"blue\")\n",
    "        self.shape(\"square\")\n",
    "        self.shapesize(5,1)\n",
    "        self.penup()\n",
    "        self.goto(x_cor,0) \n",
    "        \n",
    "    def go_up(self):\n",
    "        new_y = self.ycor()+40\n",
    "        xcor=self.xcor()\n",
    "        self.goto(xcor,new_y)\n",
    "    def go_down(self):\n",
    "        new_y = self.ycor()-40\n",
    "        xcor=self.xcor()\n",
    "        self.goto(xcor,new_y)\n",
    "        \n",
    "        \n",
    "        \n",
    "\n",
    "        "
   ]
  },
  {
   "cell_type": "markdown",
   "metadata": {},
   "source": [
    "Ball\n",
    "--\n"
   ]
  },
  {
   "cell_type": "markdown",
   "metadata": {},
   "source": [
    "create ball\n",
    "--\n",
    "..with width 20, height 20, at center and circle\n",
    "..move the ball to right top corner automatically when the screen refreashes( add some distance on current position n c and y coordinate))\n",
    "\n",
    "bounce\n",
    "--\n",
    "..with top and bellow boarder by comparing the ball ycoordinate value with border coordinate and change the y cordinate\n",
    ".. with the paddle by cheking the distance b/n ball and paddle and change the c coordinate"
   ]
  },
  {
   "cell_type": "code",
   "execution_count": 92,
   "metadata": {},
   "outputs": [],
   "source": [
    "\n",
    "class Ball(Turtle):\n",
    "    def __init__(self):\n",
    "        super().__init__()\n",
    "        self.shape(\"circle\")\n",
    "        self.color(\"white\")\n",
    "        self.penup()\n",
    "        self.new_x=20\n",
    "        self.new_y=20\n",
    "        self.move_speed =0.12\n",
    "        \n",
    "        \n",
    "    def move_ball(self):\n",
    "        new_x = self.xcor()+ self.new_x\n",
    "        new_y = self.ycor()+ self.new_y\n",
    "        self.goto(new_x, new_y)\n",
    "        \n",
    "    def bounce_x(self): # change the x direction movment\n",
    "        self.new_x *= -1\n",
    "        self.move_speed *= 0.98\n",
    "        \n",
    "    def bounce_y(self): # change the y direction movment\n",
    "        self.new_y *= -1\n",
    "    def reset_position(self):\n",
    "        self.goto(0,0)\n",
    "        self.new_x*=-1\n",
    "#         self.new_y*=-1\n",
    "        self.move_speed =0.15\n",
    "\n",
    "        \n",
    "        "
   ]
  },
  {
   "cell_type": "code",
   "execution_count": null,
   "metadata": {},
   "outputs": [],
   "source": []
  },
  {
   "cell_type": "markdown",
   "metadata": {},
   "source": [
    "detect colision and bounce( move the ball in different direction by ++ or -- the x and y cordinate\n"
   ]
  },
  {
   "cell_type": "markdown",
   "metadata": {},
   "source": [
    "Score board\n",
    "==\n",
    "-- display score at the top\n",
    ".. update the score each time after clear the privious\n",
    ".. announce the winner"
   ]
  },
  {
   "cell_type": "code",
   "execution_count": 93,
   "metadata": {},
   "outputs": [],
   "source": [
    "ALIGNMENT = \"center\"\n",
    "FONT = (\"Arial\",24,\"normal\")\n",
    "\n",
    "class ScoreBoard(Turtle):\n",
    "    def __init__(self):\n",
    "        super().__init__()\n",
    "        self.score1=0\n",
    "        self.score2=0\n",
    "        self.color(\"green\")\n",
    "        self.penup()\n",
    "        self.goto(0,260)\n",
    "        self.write_score()\n",
    "        self.hideturtle()\n",
    "    def write_score(self):\n",
    "        self.write(f\"   Score   \\n{self.score2} : {self.score1}\", align = ALIGNMENT, font=FONT)\n",
    "\n",
    "    def update_score1(self):\n",
    "        self.score1+=1\n",
    "        self.clear()\n",
    "        self.write_score()\n",
    "    def update_score2(self):\n",
    "        self.score2 +=1\n",
    "        self.clear()\n",
    "        self.write_score()\n",
    "        \n",
    "    def winner(self,winner):\n",
    "        self.goto(0,0)\n",
    "        self.write(f\"{winner} player win\", align = ALIGNMENT, font=FONT)\n",
    "        "
   ]
  },
  {
   "cell_type": "code",
   "execution_count": null,
   "metadata": {},
   "outputs": [],
   "source": []
  },
  {
   "cell_type": "code",
   "execution_count": null,
   "metadata": {},
   "outputs": [],
   "source": []
  },
  {
   "cell_type": "markdown",
   "metadata": {},
   "source": [
    "\n",
    "Main\n",
    "--"
   ]
  },
  {
   "cell_type": "code",
   "execution_count": 94,
   "metadata": {},
   "outputs": [],
   "source": [
    "#_____starting condition_____\n",
    "screen = Screen()\n",
    "starter =Starter()\n",
    "screen.tracer(0)\n",
    "\n",
    "#_______creat objet_____\n",
    "turtle = Turtle()\n",
    "ball = Ball()\n",
    "score =ScoreBoard() \n",
    "\n",
    "\n",
    "# ____create paddle_____\n",
    "\n",
    "paddle_1 = Paddle(360)\n",
    "paddle_2 = Paddle(-360)\n",
    "\n",
    "# _____move paddle______\n",
    "screen.listen()\n",
    "screen.onkey(paddle_1.go_up, \"Up\")\n",
    "screen.onkey(paddle_2.go_up, \"w\")\n",
    "screen.onkey(paddle_1.go_down, \"Down\")\n",
    "screen.onkey(paddle_2.go_down, \"s\")\n",
    "\n",
    "# ___game on___\n",
    "game_is_on =True\n",
    "x=0\n",
    "y=0\n",
    "while(game_is_on):\n",
    "# ___bypass transition___\n",
    "    time.sleep(ball.move_speed)\n",
    "    screen.update()\n",
    "    \n",
    "    ball.move_ball()\n",
    "    \n",
    "    # horizontal bounce\n",
    "    if ball.xcor()>370:\n",
    "        x+=1\n",
    "        score.update_score2()\n",
    "        ball.reset_position()\n",
    "        if x==3:\n",
    "            game_is_on = False\n",
    "            score.winner(\"left\")\n",
    "    elif ball.xcor() < -370:\n",
    "        y+=1\n",
    "        score.update_score1()\n",
    "        ball.reset_position()\n",
    "        if y==3:\n",
    "            game_is_on = False\n",
    "            score.winner(\"right\")\n",
    "            \n",
    "    else:\n",
    "        pass\n",
    "    \n",
    "    if (ball.ycor()>=280) or( ball.ycor()<=-280): # vertical bounce\n",
    "        ball.bounce_y()\n",
    "\n",
    "#     if (ball.xcor()>370) or(ball.xcor()<-370): # horizontal bounce\n",
    "#         ball.reset_position()\n",
    "    if ((ball.distance(paddle_2)<50) and ball.xcor()<-320 )or ( (ball.distance(paddle_1)<50) and ball.xcor()>320) : #paddle bounce\n",
    "        ball.bounce_x()\n",
    "    \n",
    "\n",
    "    \n",
    "\n",
    "screen.exitonclick()\n"
   ]
  },
  {
   "cell_type": "code",
   "execution_count": null,
   "metadata": {},
   "outputs": [],
   "source": []
  },
  {
   "cell_type": "code",
   "execution_count": null,
   "metadata": {},
   "outputs": [],
   "source": []
  },
  {
   "cell_type": "code",
   "execution_count": null,
   "metadata": {},
   "outputs": [],
   "source": []
  },
  {
   "cell_type": "code",
   "execution_count": null,
   "metadata": {},
   "outputs": [],
   "source": []
  },
  {
   "cell_type": "code",
   "execution_count": null,
   "metadata": {},
   "outputs": [],
   "source": []
  },
  {
   "cell_type": "code",
   "execution_count": null,
   "metadata": {},
   "outputs": [],
   "source": []
  }
 ],
 "metadata": {
  "kernelspec": {
   "display_name": "Python 3",
   "language": "python",
   "name": "python3"
  },
  "language_info": {
   "codemirror_mode": {
    "name": "ipython",
    "version": 3
   },
   "file_extension": ".py",
   "mimetype": "text/x-python",
   "name": "python",
   "nbconvert_exporter": "python",
   "pygments_lexer": "ipython3",
   "version": "3.8.3"
  }
 },
 "nbformat": 4,
 "nbformat_minor": 4
}
